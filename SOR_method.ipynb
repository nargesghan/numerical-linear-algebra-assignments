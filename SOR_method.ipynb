{
  "nbformat": 4,
  "nbformat_minor": 0,
  "metadata": {
    "colab": {
      "provenance": []
    },
    "kernelspec": {
      "name": "python3",
      "display_name": "Python 3"
    },
    "language_info": {
      "name": "python"
    }
  },
  "cells": [
    {
      "cell_type": "code",
      "execution_count": null,
      "metadata": {
        "id": "29qyGfc_15qi",
        "colab": {
          "base_uri": "https://localhost:8080/"
        },
        "outputId": "65ed6c06-fa07-436e-db5b-697c34517c15"
      },
      "outputs": [
        {
          "output_type": "stream",
          "name": "stdout",
          "text": [
            "--------------- 1 th step:-----------------------\n",
            "phi [-1180.         1178.125       110.6640625]\n",
            "Residual:    2361.15\n",
            "--------------- 2 th step:-----------------------\n",
            "phi [-801.9921875   501.29394531  121.48834229]\n",
            "Residual:    775.311\n",
            "--------------- 3 th step:-----------------------\n",
            "phi [-261.96502686  167.60883331   14.50567484]\n",
            "Residual:    643.755\n",
            "--------------- 4 th step:-----------------------\n",
            "phi [-84.14202452  50.88896304   4.77638224]\n",
            "Residual:     212.93\n",
            "--------------- 5 th step:-----------------------\n",
            "phi [-19.17289672  16.11996937  -3.65660513]\n",
            "Residual:    74.1686\n",
            "--------------- 6 th step:-----------------------\n",
            "phi [-2.8192471   6.84536271 -4.44667287]\n",
            "Residual:    18.8171\n",
            "--------------- 7 th step:-----------------------\n",
            "phi [ 1.78728423  4.59849508 -4.95130207]\n",
            "Residual:    5.15007\n",
            "--------------- 8 th step:-----------------------\n",
            "phi [ 2.7420898   4.10738514 -4.97861663]\n",
            "Residual:    1.07405\n",
            "--------------- 9 th step:-----------------------\n",
            "phi [ 2.96380398  4.01376979 -5.00104278]\n",
            "Residual:    0.24171\n",
            "--------------- 10 th step:-----------------------\n",
            "phi [ 2.99613983  3.99985059 -4.99978599]\n",
            "Residual:  0.0352268\n",
            "--------------- 11 th step:-----------------------\n",
            "phi [ 3.00110511  3.99906819 -5.00034469]\n",
            "Residual:  0.0050575\n",
            "[ 3.00110511  3.99906819 -5.00034469]\n"
          ]
        }
      ],
      "source": [
        "import numpy as np\n",
        "\n",
        "def sor_solver(A, b, omega, initial_guess, convergence_criteria):\n",
        "  \"\"\"\n",
        "  Inputs:\n",
        "    A: nxn numpy matrix\n",
        "    b: n dimensional numpy vector\n",
        "    omega: relaxation factor\n",
        "    initial_guess: An initial solution guess for the solver to start with\n",
        "  Returns:\n",
        "    phi: solution vector of dimension n\n",
        "  \"\"\"\n",
        "  prephi=np.ones(b.shape[0])*1000\n",
        "  phi = initial_guess[:]\n",
        "  residual = 1000 #Initial residual\n",
        "  step_count=0\n",
        "  while residual > convergence_criteria:\n",
        "    step_count+=1\n",
        "    for i in range(A.shape[0]):\n",
        "      sigma = 0\n",
        "      for j in range(A.shape[1]):\n",
        "        if j <i:\n",
        "          sigma += A[i][j] * phi[j]\n",
        "        if j>i:\n",
        "          sigma += A[i][j] * prephi[j]\n",
        "      phi[i] = (1 - omega) * prephi[i] + (omega / A[i][i]) * (b[i] - sigma)\n",
        "    residual = np.linalg.norm(prephi-phi)\n",
        "    prephi = np.copy(phi)\n",
        "    print(\"---------------\",step_count,\"th step:-----------------------\")\n",
        "    print(\"phi\",phi)\n",
        "    print('Residual: {0:10.6g}'.format(residual))\n",
        "  return phi\n",
        "\n",
        "\n",
        "#An example case that mirrors the one in the Wikipedia article\n",
        "residual_convergence = 8e-3\n",
        "omega = 1.25 #Relaxation factor\n",
        "\n",
        "A = np.ones((3,3))\n",
        "A[0][0] = 4\n",
        "A[0][1] = 3\n",
        "A[0][2] = 0\n",
        "\n",
        "\n",
        "A[1][0] = 3\n",
        "A[1][1] = 4\n",
        "A[1][2] = -1\n",
        "\n",
        "\n",
        "A[2][0] = 0\n",
        "A[2][1] = -1\n",
        "A[2][2] = 4\n",
        "\n",
        "\n",
        "\n",
        "#right hand side of equation\n",
        "b = np.array([24,30,-24])\n",
        "\n",
        "\n",
        "initial_guess = np.ones(3)\n",
        "\n",
        "phi = sor_solver(A, b, omega, initial_guess, residual_convergence)\n",
        "print(phi)"
      ]
    },
    {
      "cell_type": "markdown",
      "source": [],
      "metadata": {
        "id": "Gw0MW4we16eg"
      }
    }
  ]
}